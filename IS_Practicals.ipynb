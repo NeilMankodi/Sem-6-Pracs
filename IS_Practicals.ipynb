{
  "nbformat": 4,
  "nbformat_minor": 0,
  "metadata": {
    "colab": {
      "name": "IS_Practicals.ipynb",
      "provenance": [],
      "collapsed_sections": [
        "2_q5v1R-vYJG",
        "s3-tNGUlzhiZ",
        "22kPdMt23LG-",
        "gTL_yP6B6kgB",
        "XfBft4U68FgE",
        "MCpscDkhHTHh",
        "_aDu9jHKLhYo",
        "cWQv2ANkOI5S",
        "JPbnPTbERtm6",
        "NJCtlDPlet1O",
        "UZbhHN0nfqcq",
        "7Lf-EhDCi4yd"
      ],
      "authorship_tag": "ABX9TyOuRKu3Xt/9oVV7wNQUa8Xn",
      "include_colab_link": true
    },
    "kernelspec": {
      "name": "python3",
      "display_name": "Python 3"
    },
    "language_info": {
      "name": "python"
    }
  },
  "cells": [
    {
      "cell_type": "markdown",
      "metadata": {
        "id": "view-in-github",
        "colab_type": "text"
      },
      "source": [
        "<a href=\"https://colab.research.google.com/github/NeilMankodi/Sem-6-Pracs/blob/main/IS_Practicals.ipynb\" target=\"_parent\"><img src=\"https://colab.research.google.com/assets/colab-badge.svg\" alt=\"Open In Colab\"/></a>"
      ]
    },
    {
      "cell_type": "markdown",
      "source": [
        "# **Caeser Cipher**"
      ],
      "metadata": {
        "id": "2_q5v1R-vYJG"
      }
    },
    {
      "cell_type": "code",
      "execution_count": null,
      "metadata": {
        "colab": {
          "base_uri": "https://localhost:8080/"
        },
        "id": "OYeuvzibvEdS",
        "outputId": "977f4fe4-7154-4b1a-f198-bd01bffb38ff"
      },
      "outputs": [
        {
          "name": "stdout",
          "output_type": "stream",
          "text": [
            "Enter plaintext: Neil Mankodi TE-B1 60004190073\n",
            "Enter key: 3\n"
          ]
        }
      ],
      "source": [
        "plaintext = input(\"Enter plaintext: \")\n",
        "key = int(input(\"Enter key: \"))"
      ]
    },
    {
      "cell_type": "code",
      "source": [
        "def encryption_caeser(plaintext, key):\n",
        "    plaintext_ascii = [ord(i) - 32 for i in plaintext]\n",
        "    ciphertext = [chr(i + key + 32) for i in plaintext_ascii]\n",
        "    ciphertext = \"\".join(ciphertext)\n",
        "\n",
        "    print(\"Received plaintext =\", plaintext)\n",
        "    print(\"Generated ciphertext =\", ciphertext)\n",
        "    return ciphertext\n",
        "\n",
        "def decryption_caeser(ciphertext, key):\n",
        "    ciphertext_ascii = [ord(i) - 32 for i in ciphertext]\n",
        "    plaintext = [chr(i - key + 32) for i in ciphertext_ascii]\n",
        "    plaintext = \"\".join(plaintext)\n",
        "\n",
        "    print(\"Received ciphertext =\", ciphertext)\n",
        "    print(\"Generated plaintext =\", plaintext)\n",
        "    return plaintext"
      ],
      "metadata": {
        "id": "5ujaoJsYxPED"
      },
      "execution_count": null,
      "outputs": []
    },
    {
      "cell_type": "code",
      "source": [
        "print(\"Encryption Process -->\")\n",
        "ciphertext_caeser = encryption_caeser(plaintext, key)\n",
        "\n",
        "print(\"\\nDecryption Process -->\")\n",
        "plaintext_caeser = decryption_caeser(ciphertext_caeser, key)"
      ],
      "metadata": {
        "colab": {
          "base_uri": "https://localhost:8080/"
        },
        "id": "5DwdjgTcyhbW",
        "outputId": "62129f57-bc0a-4909-cc31-427324eba767"
      },
      "execution_count": null,
      "outputs": [
        {
          "output_type": "stream",
          "name": "stdout",
          "text": [
            "Encryption Process -->\n",
            "Received plaintext = Neil Mankodi TE-B1 60004190073\n",
            "Generated ciphertext = Qhlo#Pdqnrgl#WH0E4#933374<33:6\n",
            "\n",
            "Decryption Process -->\n",
            "Received ciphertext = Qhlo#Pdqnrgl#WH0E4#933374<33:6\n",
            "Generated plaintext = Neil Mankodi TE-B1 60004190073\n"
          ]
        }
      ]
    },
    {
      "cell_type": "markdown",
      "source": [
        "# **Columnar Cipher**"
      ],
      "metadata": {
        "id": "s3-tNGUlzhiZ"
      }
    },
    {
      "cell_type": "code",
      "source": [
        "plaintext = input(\"Enter plaintext: \")\n",
        "key = int(input(\"Enter the key: \"))"
      ],
      "metadata": {
        "colab": {
          "base_uri": "https://localhost:8080/"
        },
        "id": "vF7e1gw6zjbr",
        "outputId": "cc5739c8-aa45-4f2a-ab36-ac09148ab6b5"
      },
      "execution_count": null,
      "outputs": [
        {
          "name": "stdout",
          "output_type": "stream",
          "text": [
            "Enter plaintext: Neil A Mankodi\n",
            "Enter the key: 3\n"
          ]
        }
      ]
    },
    {
      "cell_type": "code",
      "source": [
        "def encryption_columnar(plaintext, key):\n",
        "    if len(plaintext) % key != 0:\n",
        "        plaintext += \" \" * (key - (len(plaintext) % key))\n",
        "\n",
        "    n_rows = int(len(plaintext) / key)\n",
        "    rows = [plaintext[i*key : (i+1)*key] for i in range(n_rows)]\n",
        "    \n",
        "    ciphertext = \"\"\n",
        "    for i in range(key):\n",
        "        temp = []\n",
        "        for j in range(n_rows):\n",
        "            temp.append(rows[j][i])\n",
        "        temp = \"\".join(temp)\n",
        "        ciphertext += temp\n",
        "\n",
        "    print(\"Received plaintext =\", plaintext)\n",
        "    print(\"Generated ciphertext =\", ciphertext)\n",
        "    return ciphertext\n",
        "\n",
        "def decryption_columnar(ciphertext, key):\n",
        "    n_rows = int(len(ciphertext) / key)\n",
        "    columns = [ciphertext[i*n_rows : (i+1)*n_rows] for i in range(key)]\n",
        "\n",
        "    plaintext = \"\"\n",
        "    for i in range(n_rows):\n",
        "        temp = []\n",
        "        for j in range(key):\n",
        "            temp.append(columns[j][i])\n",
        "        temp = \"\".join(temp)\n",
        "        plaintext += temp\n",
        "\n",
        "    print(\"Received ciphertext =\", ciphertext)\n",
        "    print(\"Generated plaintext =\", plaintext)\n",
        "    return plaintext"
      ],
      "metadata": {
        "id": "n7OxO6twzurX"
      },
      "execution_count": null,
      "outputs": []
    },
    {
      "cell_type": "code",
      "source": [
        "print(\"Encryption Process -->\")\n",
        "ciphertext_columnar = encryption_columnar(plaintext, key)\n",
        "\n",
        "print(\"\\nDecryption Process -->\")\n",
        "plaintext_columnar = decryption_columnar(ciphertext_columnar, key)"
      ],
      "metadata": {
        "colab": {
          "base_uri": "https://localhost:8080/"
        },
        "id": "JLOAJwON0sTU",
        "outputId": "9de600b3-20d8-457c-97b2-5dcdb5716b22"
      },
      "execution_count": null,
      "outputs": [
        {
          "output_type": "stream",
          "name": "stdout",
          "text": [
            "Encryption Process -->\n",
            "Received plaintext = Neil A Mankodi \n",
            "Generated ciphertext = Nl nde MkiiAao \n",
            "\n",
            "Decryption Process -->\n",
            "Received ciphertext = Nl nde MkiiAao \n",
            "Generated plaintext = Neil A Mankodi \n"
          ]
        }
      ]
    },
    {
      "cell_type": "markdown",
      "source": [
        "# **RSA**"
      ],
      "metadata": {
        "id": "22kPdMt23LG-"
      }
    },
    {
      "cell_type": "code",
      "source": [
        "p = int(input(\"Enter prime number p: \"))\n",
        "q = int(input(\"Enter prime number q: \"))\n",
        "plaintext = input(\"Enter plaintext: \")"
      ],
      "metadata": {
        "colab": {
          "base_uri": "https://localhost:8080/"
        },
        "id": "BcmHmzPE3QVi",
        "outputId": "7362644f-5a76-4bd1-c9ad-ee339d2a027f"
      },
      "execution_count": null,
      "outputs": [
        {
          "name": "stdout",
          "output_type": "stream",
          "text": [
            "Enter prime number p: 17\n",
            "Enter prime number q: 23\n",
            "Enter plaintext: Neil Mankodi TE-B1 60004190073\n"
          ]
        }
      ]
    },
    {
      "cell_type": "code",
      "source": [
        "import math\n",
        "\n",
        "n = p * q\n",
        "fai_n = (p - 1) * (q - 1)\n",
        "\n",
        "e = 2\n",
        "while math.gcd(e, fai_n) != 1:\n",
        "    e += 1\n",
        "\n",
        "d = 1\n",
        "while (e*d) % fai_n != 1:\n",
        "    d += 1\n",
        "\n",
        "print(\"e =\", e)\n",
        "print(\"d =\", d)"
      ],
      "metadata": {
        "colab": {
          "base_uri": "https://localhost:8080/"
        },
        "id": "yPNREike4xKq",
        "outputId": "e06b0b3e-ebdf-4694-8800-523898415c96"
      },
      "execution_count": null,
      "outputs": [
        {
          "output_type": "stream",
          "name": "stdout",
          "text": [
            "e = 3\n",
            "d = 235\n"
          ]
        }
      ]
    },
    {
      "cell_type": "code",
      "source": [
        "def encryption_rsa(plaintext, e, n):\n",
        "    plaintext_ascii = [ord(i)-32 for i in plaintext]\n",
        "    ciphertext = [i**e % n for i in plaintext_ascii]\n",
        "\n",
        "    print(\"Received plaintext =\", plaintext)\n",
        "    print(\"Generated ciphertext =\", ciphertext)\n",
        "    return ciphertext\n",
        "\n",
        "def decryption_rsa(ciphertext, d, n):\n",
        "    plaintext_ascii = [i**d % n for i in ciphertext]\n",
        "    plaintext = [chr(i + 32) for i in plaintext_ascii]\n",
        "    plaintext = \"\".join(plaintext)\n",
        "\n",
        "    print(\"Received ciphertext =\", ciphertext)\n",
        "    print(\"Generated plaintext =\", plaintext)\n",
        "    return plaintext"
      ],
      "metadata": {
        "id": "p98_tp4S5PDD"
      },
      "execution_count": null,
      "outputs": []
    },
    {
      "cell_type": "code",
      "source": [
        "print(\"Encryption Process -->\")\n",
        "ciphertext_rsa = encryption_rsa(plaintext, e, n)\n",
        "\n",
        "print(\"\\nDecryption Process -->\")\n",
        "plaintext_rsa = decryption_rsa(ciphertext_rsa, d, n)"
      ],
      "metadata": {
        "colab": {
          "base_uri": "https://localhost:8080/"
        },
        "id": "bLlycELK6Lj0",
        "outputId": "24994b0b-13bf-410f-cbe8-f705559b00e6"
      },
      "execution_count": null,
      "outputs": [
        {
          "output_type": "stream",
          "name": "stdout",
          "text": [
            "Encryption Process -->\n",
            "Received plaintext = Neil Mankodi TE-B1 60004190073\n",
            "Generated ciphertext = [368, 69, 363, 274, 0, 22, 143, 269, 377, 379, 68, 363, 0, 239, 214, 242, 204, 221, 0, 91, 186, 186, 186, 180, 221, 376, 186, 186, 46, 212]\n",
            "\n",
            "Decryption Process -->\n",
            "Received ciphertext = [368, 69, 363, 274, 0, 22, 143, 269, 377, 379, 68, 363, 0, 239, 214, 242, 204, 221, 0, 91, 186, 186, 186, 180, 221, 376, 186, 186, 46, 212]\n",
            "Generated plaintext = Neil Mankodi TE-B1 60004190073\n"
          ]
        }
      ]
    },
    {
      "cell_type": "markdown",
      "source": [
        "# **RSA using 3 primes**"
      ],
      "metadata": {
        "id": "gTL_yP6B6kgB"
      }
    },
    {
      "cell_type": "code",
      "source": [
        "p = int(input(\"Enter prime number p: \"))\n",
        "q = int(input(\"Enter prime number q: \"))\n",
        "r = int(input(\"Enter prime number r: \"))\n",
        "plaintext = input(\"Enter plaintext: \")"
      ],
      "metadata": {
        "colab": {
          "base_uri": "https://localhost:8080/"
        },
        "id": "iWDVcA3h6n2l",
        "outputId": "52bd9a41-ce62-4407-82bd-e76c2014ec2d"
      },
      "execution_count": null,
      "outputs": [
        {
          "name": "stdout",
          "output_type": "stream",
          "text": [
            "Enter prime number p: 13\n",
            "Enter prime number q: 17\n",
            "Enter prime number r: 19\n",
            "Enter plaintext: Neil Mankodi TE-B1 60004190073\n"
          ]
        }
      ]
    },
    {
      "cell_type": "code",
      "source": [
        "import math\n",
        "\n",
        "n = p * q * r\n",
        "fai_n = (p-1) * (q-1) * (r-1)\n",
        "\n",
        "e = 2\n",
        "while math.gcd(e, fai_n) != 1:\n",
        "    e += 1\n",
        "\n",
        "d = 1\n",
        "while (e*d) % fai_n != 1:\n",
        "    d += 1\n",
        "\n",
        "print(\"e =\", e)\n",
        "print(\"d =\", d)"
      ],
      "metadata": {
        "colab": {
          "base_uri": "https://localhost:8080/"
        },
        "id": "jiyIeaza6xez",
        "outputId": "8c238386-c5b8-473f-def5-08cbf978e271"
      },
      "execution_count": null,
      "outputs": [
        {
          "output_type": "stream",
          "name": "stdout",
          "text": [
            "e = 5\n",
            "d = 2765\n"
          ]
        }
      ]
    },
    {
      "cell_type": "code",
      "source": [
        "def encryption_rsa3(plaintext, e, n):\n",
        "    plaintext_ascii = [ord(i)-32 for i in plaintext]\n",
        "    ciphertext = [i**e % n for i in plaintext_ascii]\n",
        "\n",
        "    print(\"Received plaintext =\", plaintext)\n",
        "    print(\"Generated ciphertext =\", ciphertext)\n",
        "    return ciphertext\n",
        "\n",
        "def decryption_rsa3(ciphertext, d, n):\n",
        "    plaintext_ascii = [i**d % n for i in ciphertext]\n",
        "    plaintext = [chr(i+32) for i in plaintext_ascii]\n",
        "    plaintext = \"\".join(plaintext)\n",
        "\n",
        "    print(\"Received ciphertext =\", ciphertext)\n",
        "    print(\"Generated plaintext =\", plaintext)\n",
        "    return plaintext"
      ],
      "metadata": {
        "id": "XlWeQRkj7Hxy"
      },
      "execution_count": null,
      "outputs": []
    },
    {
      "cell_type": "code",
      "source": [
        "print(\"Encryption Process -->\")\n",
        "ciphertext_rsa3 = encryption_rsa3(plaintext, e, n)\n",
        "\n",
        "print(\"\\nDecryption Process -->\")\n",
        "plaintext_rsa3 = decryption_rsa3(ciphertext_rsa3, d, n)"
      ],
      "metadata": {
        "colab": {
          "base_uri": "https://localhost:8080/"
        },
        "id": "jsFlt9I07uoQ",
        "outputId": "3d497d80-0b45-4542-a2d2-7910b5f51b12"
      },
      "execution_count": null,
      "outputs": [
        {
          "output_type": "stream",
          "name": "stdout",
          "text": [
            "Encryption Process -->\n",
            "Received plaintext = Neil Mankodi TE-B1 60004190073\n",
            "Generated ciphertext = [2026, 426, 99, 1216, 0, 3070, 1950, 754, 3020, 4005, 425, 99, 0, 1378, 1671, 1781, 2244, 595, 0, 1459, 3025, 3025, 3025, 362, 595, 2950, 3025, 3025, 3475, 2888]\n",
            "\n",
            "Decryption Process -->\n",
            "Received ciphertext = [2026, 426, 99, 1216, 0, 3070, 1950, 754, 3020, 4005, 425, 99, 0, 1378, 1671, 1781, 2244, 595, 0, 1459, 3025, 3025, 3025, 362, 595, 2950, 3025, 3025, 3475, 2888]\n",
            "Generated plaintext = Neil Mankodi TE-B1 60004190073\n"
          ]
        }
      ]
    },
    {
      "cell_type": "markdown",
      "source": [
        "# **Diffie Hellman**"
      ],
      "metadata": {
        "id": "XfBft4U68FgE"
      }
    },
    {
      "cell_type": "code",
      "source": [
        "p = int(input(\"Enter prime number P: \"))"
      ],
      "metadata": {
        "colab": {
          "base_uri": "https://localhost:8080/"
        },
        "id": "s824_oDk8Gr5",
        "outputId": "de55af87-9d04-49c5-ca40-b6ca9c16e7b9"
      },
      "execution_count": null,
      "outputs": [
        {
          "name": "stdout",
          "output_type": "stream",
          "text": [
            "Enter prime number P: 23\n"
          ]
        }
      ]
    },
    {
      "cell_type": "code",
      "source": [
        "import random\n",
        "\n",
        "def primitive_root(p):\n",
        "    root = 1\n",
        "    found = 0\n",
        "\n",
        "    while found != 1:\n",
        "        results = []\n",
        "        for i in range(1, p):\n",
        "            results.append(root**i % p)\n",
        "        \n",
        "        results_set = set(results)\n",
        "        if len(results) == len(results_set):\n",
        "            found = 1\n",
        "        else:\n",
        "            root += 1\n",
        "    \n",
        "    return root\n",
        "\n",
        "def init(p, alpha):\n",
        "    x = random.choice(range(1, p))\n",
        "    k = alpha**x % p\n",
        "    return x, k\n",
        "\n",
        "def secret_key_gen(x, k, p):\n",
        "    return k**x % p\n",
        "\n",
        "def print_results(person, p, alpha, k1, k2, ks):\n",
        "    print(person + \" side -->\")\n",
        "    print(\"- P =\", p)\n",
        "    print(\"- Alpha =\", alpha)\n",
        "    print(\"- Public Key =\", k1)\n",
        "    print(\"- Public key received =\", k2)\n",
        "    print(\"- Secret key =\", ks)\n",
        "    print()"
      ],
      "metadata": {
        "id": "Vr_yPUSlDD2v"
      },
      "execution_count": null,
      "outputs": []
    },
    {
      "cell_type": "code",
      "source": [
        "alpha = primitive_root(p)\n",
        "\n",
        "xa, ka = init(p, alpha)\n",
        "xb, kb = init(p, alpha)\n",
        "\n",
        "ks1 = secret_key_gen(xa, kb, p)\n",
        "ks2 = secret_key_gen(xb, ka, p)"
      ],
      "metadata": {
        "id": "lY4XZ_8jDuXV"
      },
      "execution_count": null,
      "outputs": []
    },
    {
      "cell_type": "code",
      "source": [
        "if ks1 == ks2:\n",
        "    print(\"Secret keys matched.\\n\")\n",
        "    print_results(\"Sender\", p, alpha, ka, kb, ks1)\n",
        "    print_results(\"Receiver\", p, alpha, kb, ka, ks2)\n",
        "else:\n",
        "    print(\"Secret keys did not match.\")"
      ],
      "metadata": {
        "colab": {
          "base_uri": "https://localhost:8080/"
        },
        "id": "6zFNOMPhEqW7",
        "outputId": "de6959a3-181d-4420-a44f-396c0a9e5620"
      },
      "execution_count": null,
      "outputs": [
        {
          "output_type": "stream",
          "name": "stdout",
          "text": [
            "Secret keys matched.\n",
            "\n",
            "Sender side -->\n",
            "- P = 23\n",
            "- Alpha = 5\n",
            "- Public Key = 4\n",
            "- Public key received = 19\n",
            "- Secret key = 3\n",
            "\n",
            "Receiver side -->\n",
            "- P = 23\n",
            "- Alpha = 5\n",
            "- Public Key = 19\n",
            "- Public key received = 4\n",
            "- Secret key = 3\n",
            "\n"
          ]
        }
      ]
    },
    {
      "cell_type": "markdown",
      "source": [
        "# **AES**"
      ],
      "metadata": {
        "id": "MCpscDkhHTHh"
      }
    },
    {
      "cell_type": "code",
      "source": [
        "!pip install pyaes"
      ],
      "metadata": {
        "colab": {
          "base_uri": "https://localhost:8080/"
        },
        "id": "IOQ1a_stHU5Q",
        "outputId": "47e027f5-9058-45e9-94a5-35700b4d1353"
      },
      "execution_count": null,
      "outputs": [
        {
          "output_type": "stream",
          "name": "stdout",
          "text": [
            "Looking in indexes: https://pypi.org/simple, https://us-python.pkg.dev/colab-wheels/public/simple/\n",
            "Collecting pyaes\n",
            "  Downloading pyaes-1.6.1.tar.gz (28 kB)\n",
            "Building wheels for collected packages: pyaes\n",
            "  Building wheel for pyaes (setup.py) ... \u001b[?25l\u001b[?25hdone\n",
            "  Created wheel for pyaes: filename=pyaes-1.6.1-py3-none-any.whl size=26363 sha256=0b1ddeb0f60f77ce3046a17b1e0ec8767dd82a7306311a43077bc03bd6a3ec73\n",
            "  Stored in directory: /root/.cache/pip/wheels/42/a3/7d/73d60820adb58d818179cdec3fc1be66f6f7453513a3ff0b05\n",
            "Successfully built pyaes\n",
            "Installing collected packages: pyaes\n",
            "Successfully installed pyaes-1.6.1\n"
          ]
        }
      ]
    },
    {
      "cell_type": "code",
      "source": [
        "import pyaes\n",
        "import random"
      ],
      "metadata": {
        "id": "jpw0zMb2HZf6"
      },
      "execution_count": null,
      "outputs": []
    },
    {
      "cell_type": "code",
      "source": [
        "plaintext = input(\"Enter plaintext: \")\n",
        "key = random.sample(range(32, 127), 32)\n",
        "key = [chr(i) for i in key]\n",
        "key = \"\".join(key)\n",
        "print(\"Key:\", key)"
      ],
      "metadata": {
        "colab": {
          "base_uri": "https://localhost:8080/"
        },
        "id": "KJJBrVlYHbpS",
        "outputId": "2c49affb-6be8-4e46-d6b1-a12a615f32a2"
      },
      "execution_count": null,
      "outputs": [
        {
          "output_type": "stream",
          "name": "stdout",
          "text": [
            "Enter plaintext: Neil Mankodi TE-B1 60004190073\n",
            "Key: mCvA6{l9',&8Dn[TqoeK~c@pLMP71Ub%\n"
          ]
        }
      ]
    },
    {
      "cell_type": "code",
      "source": [
        "def encryption_aes(plaintext, key):\n",
        "    key = key.encode('utf-8')\n",
        "    aes = pyaes.AESModeOfOperationCTR(key)\n",
        "    ciphertext = aes.encrypt(plaintext)\n",
        "\n",
        "    print(\"Received plaintext =\", plaintext)\n",
        "    print(\"Generated ciphertext =\", ciphertext)\n",
        "    return ciphertext\n",
        "\n",
        "def decryption_aes(ciphertext, key):\n",
        "    key = key.encode('utf-8')\n",
        "    aes = pyaes.AESModeOfOperationCTR(key)\n",
        "    plaintext = aes.encrypt(ciphertext).decode('utf-8')\n",
        "\n",
        "    print(\"Received ciphertext =\", ciphertext)\n",
        "    print(\"Generated plaintext =\", plaintext)\n",
        "    return plaintext"
      ],
      "metadata": {
        "id": "fywzpNawH6st"
      },
      "execution_count": null,
      "outputs": []
    },
    {
      "cell_type": "code",
      "source": [
        "print(\"Encryption Process -->\")\n",
        "ciphertext_aes = encryption_aes(plaintext, key)\n",
        "\n",
        "print(\"\\nDecryption Process -->\")\n",
        "plaintext_aes = decryption_aes(ciphertext_aes, key)"
      ],
      "metadata": {
        "colab": {
          "base_uri": "https://localhost:8080/"
        },
        "id": "FgWL4k_BInNE",
        "outputId": "97c3fb8c-6384-4bb3-e207-a56b9607a528"
      },
      "execution_count": null,
      "outputs": [
        {
          "output_type": "stream",
          "name": "stdout",
          "text": [
            "Encryption Process -->\n",
            "Received plaintext = Neil Mankodi TE-B1 60004190073\n",
            "Generated ciphertext = b'$&\\xd6\\xa45\\t\\xcbN}\\x8c\\xbb\\xc8[\\xbe\\xc2BgP\\x06\\xd7p\\xa4\\xb8\\x062\\x92G2\\xa0\\xcc'\n",
            "\n",
            "Decryption Process -->\n",
            "Received ciphertext = b'$&\\xd6\\xa45\\t\\xcbN}\\x8c\\xbb\\xc8[\\xbe\\xc2BgP\\x06\\xd7p\\xa4\\xb8\\x062\\x92G2\\xa0\\xcc'\n",
            "Generated plaintext = Neil Mankodi TE-B1 60004190073\n"
          ]
        }
      ]
    },
    {
      "cell_type": "markdown",
      "source": [
        "# **DES**"
      ],
      "metadata": {
        "id": "_aDu9jHKLhYo"
      }
    },
    {
      "cell_type": "code",
      "source": [
        "!pip install des"
      ],
      "metadata": {
        "colab": {
          "base_uri": "https://localhost:8080/"
        },
        "id": "MP97J4HLLjWP",
        "outputId": "ce9fb493-76a4-486a-ce52-8fbf2643263f"
      },
      "execution_count": null,
      "outputs": [
        {
          "output_type": "stream",
          "name": "stdout",
          "text": [
            "Looking in indexes: https://pypi.org/simple, https://us-python.pkg.dev/colab-wheels/public/simple/\n",
            "Collecting des\n",
            "  Downloading des-1.0.6.tar.gz (6.3 kB)\n",
            "Building wheels for collected packages: des\n",
            "  Building wheel for des (setup.py) ... \u001b[?25l\u001b[?25hdone\n",
            "  Created wheel for des: filename=des-1.0.6-py3-none-any.whl size=7357 sha256=93d40d2ca2ae227ac56eb5d04a4b208d39bdd69715738e69510a404c3943560b\n",
            "  Stored in directory: /root/.cache/pip/wheels/e5/42/8a/966b0c8bcd6260de27068154b0b44d872d368a24aa2be819b4\n",
            "Successfully built des\n",
            "Installing collected packages: des\n",
            "Successfully installed des-1.0.6\n"
          ]
        }
      ]
    },
    {
      "cell_type": "code",
      "source": [
        "from des import DesKey\n",
        "key = DesKey(b\"Neil Mankodi B-1\")"
      ],
      "metadata": {
        "id": "Eq23zvQlLnqc"
      },
      "execution_count": null,
      "outputs": []
    },
    {
      "cell_type": "code",
      "source": [
        "plaintext = input(\"Enter plaintext: \")"
      ],
      "metadata": {
        "colab": {
          "base_uri": "https://localhost:8080/"
        },
        "id": "mlsNvFeqLzUG",
        "outputId": "e039fd52-4f0d-410e-f727-b7457b086bd4"
      },
      "execution_count": null,
      "outputs": [
        {
          "name": "stdout",
          "output_type": "stream",
          "text": [
            "Enter plaintext: Neil Mankodi TE-B1 6004190073\n"
          ]
        }
      ]
    },
    {
      "cell_type": "code",
      "source": [
        "def encryption_des(plaintext, key):\n",
        "    ciphertext = key.encrypt(plaintext.encode('utf-8'), padding=True)\n",
        "    print(\"Received plaintext =\", plaintext)\n",
        "    print(\"Generated ciphertext =\", ciphertext)\n",
        "\n",
        "    return ciphertext\n",
        "\n",
        "def decryption_des(ciphertext, key):\n",
        "    plaintext_des = key.decrypt(ciphertext, padding=True)\n",
        "    print(\"Received ciphertext =\", ciphertext)\n",
        "    print(\"Generated plaintext =\", plaintext_des)\n",
        "\n",
        "    return plaintext"
      ],
      "metadata": {
        "id": "4L29lXtIM90f"
      },
      "execution_count": null,
      "outputs": []
    },
    {
      "cell_type": "code",
      "source": [
        "print(\"Encryption Process -->\")\n",
        "ciphertext_des = encryption_des(plaintext, key)\n",
        "\n",
        "print(\"\\nDecryption Process -->\")\n",
        "plaintext_des = decryption_des(ciphertext_des, key)"
      ],
      "metadata": {
        "colab": {
          "base_uri": "https://localhost:8080/"
        },
        "id": "Rs3010hYNRAT",
        "outputId": "f2d5a5e8-983d-4734-a5f1-47515d665a24"
      },
      "execution_count": null,
      "outputs": [
        {
          "output_type": "stream",
          "name": "stdout",
          "text": [
            "Encryption Process -->\n",
            "Received plaintext = Neil Mankodi TE-B1 6004190073\n",
            "Generated ciphertext = b'\\x03\\xb5\\x8e\\x91\\xee\\xf5\\xbc$w\\xe6\\xe9\\n\\xb5\\x99\\x82\\x98\\x08M\\x9c:\\xf4\\x00:\\x01\\xc1\\x8e\\xd3Yon\\xa7$'\n",
            "\n",
            "Decryption Process -->\n",
            "Received ciphertext = b'\\x03\\xb5\\x8e\\x91\\xee\\xf5\\xbc$w\\xe6\\xe9\\n\\xb5\\x99\\x82\\x98\\x08M\\x9c:\\xf4\\x00:\\x01\\xc1\\x8e\\xd3Yon\\xa7$'\n",
            "Generated plaintext = b'Neil Mankodi TE-B1 6004190073'\n"
          ]
        }
      ]
    },
    {
      "cell_type": "markdown",
      "source": [
        "# **MD5**"
      ],
      "metadata": {
        "id": "cWQv2ANkOI5S"
      }
    },
    {
      "cell_type": "code",
      "source": [
        "import hashlib\n",
        "import random"
      ],
      "metadata": {
        "id": "2wHzy3QUOKp1"
      },
      "execution_count": null,
      "outputs": []
    },
    {
      "cell_type": "code",
      "source": [
        "message = input(\"Enter message: \")"
      ],
      "metadata": {
        "colab": {
          "base_uri": "https://localhost:8080/"
        },
        "id": "7ffIUVMEPG3O",
        "outputId": "ff90d0a4-472e-4584-b355-5242eae17c16"
      },
      "execution_count": null,
      "outputs": [
        {
          "name": "stdout",
          "output_type": "stream",
          "text": [
            "Enter message: Neil Mankodi TE-B1 60004190073\n"
          ]
        }
      ]
    },
    {
      "cell_type": "code",
      "source": [
        "def sender(plaintext):\n",
        "    d1 = hashlib.md5(plaintext.encode())\n",
        "    d1 = d1.hexdigest()\n",
        "    return d1\n",
        "\n",
        "def receiver(plaintext, d1):\n",
        "    d2 = hashlib.md5(plaintext.encode())\n",
        "    d2 = d2.hexdigest()\n",
        "    print(\"\\nd1 =\", d1)\n",
        "    print(\"d2 =\", d2)\n",
        "    if d1 == d2:\n",
        "        print(\"\\nMessage digests match.\\nMessage integrity maintained.\\nMessage accepted.\")\n",
        "    else:\n",
        "        print(\"\\nMessage digests did not match.\\nMessage integrity violated.\\nMessage rejected.\")\n",
        "\n",
        "def attack_situation(plaintext, d1):\n",
        "    modified_text = random.sample(range(32, 127), len(plaintext))\n",
        "    modified_text = [chr(i) for i in modified_text]\n",
        "    modified_text = \"\".join(modified_text)\n",
        "    receiver(modified_text, d1)"
      ],
      "metadata": {
        "id": "sxbEjg-aPOi_"
      },
      "execution_count": null,
      "outputs": []
    },
    {
      "cell_type": "code",
      "source": [
        "d1 = sender(plaintext)\n",
        "receiver(plaintext, d1)"
      ],
      "metadata": {
        "colab": {
          "base_uri": "https://localhost:8080/"
        },
        "id": "ht5uN_lvQLps",
        "outputId": "2f74b37c-4bb9-41e8-cf44-e2fd8097ce62"
      },
      "execution_count": null,
      "outputs": [
        {
          "output_type": "stream",
          "name": "stdout",
          "text": [
            "\n",
            "d1 = 19033cc34d3566b4d175f4f95d5ff6c8\n",
            "d2 = 19033cc34d3566b4d175f4f95d5ff6c8\n",
            "\n",
            "Message digests match.\n",
            "Message integrity maintained.\n",
            "Message accepted.\n"
          ]
        }
      ]
    },
    {
      "cell_type": "code",
      "source": [
        "attack_situation(plaintext, d1)"
      ],
      "metadata": {
        "colab": {
          "base_uri": "https://localhost:8080/"
        },
        "id": "OzlmHGzkQUwy",
        "outputId": "38b9723f-6ff9-439a-c11d-0343509f9509"
      },
      "execution_count": null,
      "outputs": [
        {
          "output_type": "stream",
          "name": "stdout",
          "text": [
            "\n",
            "d1 = 19033cc34d3566b4d175f4f95d5ff6c8\n",
            "d2 = eac5a6a44448db7d4644a757bd871465\n",
            "\n",
            "Message digests did not match.\n",
            "Message integrity violated.\n",
            "Message rejected.\n"
          ]
        }
      ]
    },
    {
      "cell_type": "markdown",
      "source": [
        "# **Digital Signature**"
      ],
      "metadata": {
        "id": "JPbnPTbERtm6"
      }
    },
    {
      "cell_type": "code",
      "source": [
        "plaintext = input(\"Enter plaintext: \")"
      ],
      "metadata": {
        "colab": {
          "base_uri": "https://localhost:8080/"
        },
        "id": "pTVBq3rgRv84",
        "outputId": "f6a7aa5c-4cf8-4348-b758-93c9d44ac6a8"
      },
      "execution_count": null,
      "outputs": [
        {
          "name": "stdout",
          "output_type": "stream",
          "text": [
            "Enter plaintext: Neil Mankodi TE-B1 60004190073\n"
          ]
        }
      ]
    },
    {
      "cell_type": "code",
      "source": [
        "import hashlib\n",
        "import math\n",
        "\n",
        "def gen_hash(plaintext):\n",
        "    d = hashlib.md5(plaintext.encode())\n",
        "    d = d.hexdigest()\n",
        "    return d\n",
        "\n",
        "def encrypt_signature(plaintext, private, n):\n",
        "    sig_ascii = [ord(i)-32 for i in plaintext]\n",
        "    ciphertext = [i**private % n for i in sig_ascii]\n",
        "    return ciphertext\n",
        "\n",
        "def decrypt_signature(sig, public, n):\n",
        "    plaintext_ascii = [i**public % n for i in sig]\n",
        "    plaintext = [chr(i+32) for i in plaintext_ascii]\n",
        "    plaintext = \"\".join(plaintext)\n",
        "    return plaintext\n",
        "\n",
        "def gen_constants():\n",
        "    p = int(input(\"Enter prime number p: \"))\n",
        "    q = int(input(\"Enter prime number q: \"))\n",
        "\n",
        "    n = p*q\n",
        "    fai_n = (p-1) * (q-1)\n",
        "\n",
        "    e = 2\n",
        "    while math.gcd(e, fai_n) != 1:\n",
        "        e += 1\n",
        "    \n",
        "    d = 1\n",
        "    while (e*d) % fai_n != 1:\n",
        "        d += 1\n",
        "\n",
        "    return e, d, n\n",
        "\n",
        "def receiver(signature, public, n, d1):\n",
        "    d2 = decrypt_signature(signature, public, n)\n",
        "    print(\"digital signature =\", s1)\n",
        "    print(\"\\nd1 =\", d1)\n",
        "    print(\"d2 =\", d2)\n",
        "    if d1 == d2:\n",
        "        print(\"\\nSignature has been verified.\\nSender Authenticated.\")\n",
        "    else:\n",
        "        print(\"\\nSignature not verified.\\nSender Rejected.\")"
      ],
      "metadata": {
        "id": "T89FgbXZbh_s"
      },
      "execution_count": null,
      "outputs": []
    },
    {
      "cell_type": "code",
      "source": [
        "d1 = gen_hash(plaintext)\n",
        "\n",
        "public, private, n = gen_constants()\n",
        "\n",
        "s1 = encrypt_signature(d1, private, n)\n",
        "print(\"Digital Signature =\", s1)"
      ],
      "metadata": {
        "colab": {
          "base_uri": "https://localhost:8080/"
        },
        "id": "XGBXdWiSc2az",
        "outputId": "bb67197f-10a7-44d0-8bb2-908faaf3d758"
      },
      "execution_count": null,
      "outputs": [
        {
          "output_type": "stream",
          "name": "stdout",
          "text": [
            "Enter prime number p: 13\n",
            "Enter prime number q: 17\n",
            "Digital Signature = [204, 18, 153, 3, 77, 53, 39, 3, 3, 153, 77, 39, 205, 21, 204, 15, 15, 39, 53, 95, 83, 84, 83, 77, 152, 53, 204, 152, 63, 63, 53, 205]\n"
          ]
        }
      ]
    },
    {
      "cell_type": "code",
      "source": [
        "receiver(s1, public, n, d1)"
      ],
      "metadata": {
        "colab": {
          "base_uri": "https://localhost:8080/"
        },
        "id": "eMXxaLXSdssn",
        "outputId": "4eb558c9-b291-44e5-8742-1c051c138d05"
      },
      "execution_count": null,
      "outputs": [
        {
          "output_type": "stream",
          "name": "stdout",
          "text": [
            "digital signature = [204, 18, 153, 3, 77, 53, 39, 3, 3, 153, 77, 39, 205, 21, 204, 15, 15, 39, 53, 95, 83, 84, 83, 77, 152, 53, 204, 152, 63, 63, 53, 205]\n",
            "\n",
            "d1 = d2169ba6619ae5d33ab7fcf90bd044be\n",
            "d2 = d2169ba6619ae5d33ab7fcf90bd044be\n",
            "\n",
            "Signature has been verified.\n",
            "Sender Authenticated.\n"
          ]
        }
      ]
    },
    {
      "cell_type": "markdown",
      "source": [
        "# **Primitive Root**"
      ],
      "metadata": {
        "id": "NJCtlDPlet1O"
      }
    },
    {
      "cell_type": "code",
      "source": [
        "p = int(input(\"Enter prime number: \"))"
      ],
      "metadata": {
        "colab": {
          "base_uri": "https://localhost:8080/"
        },
        "id": "CvNwyKTjewFQ",
        "outputId": "1e1e7193-912d-457e-d6eb-83e2d5dfb5ae"
      },
      "execution_count": null,
      "outputs": [
        {
          "name": "stdout",
          "output_type": "stream",
          "text": [
            "Enter prime number: 43\n"
          ]
        }
      ]
    },
    {
      "cell_type": "code",
      "source": [
        "def gen_primitive_root(p):\n",
        "    root = 1\n",
        "    found = 0\n",
        "\n",
        "    while found != 1:\n",
        "        results = []\n",
        "        for i in range(1, p):\n",
        "            results.append(root**i % p)\n",
        "        \n",
        "        results_set = set(results)\n",
        "        if len(results) == len(results_set):\n",
        "            found = 1\n",
        "        else:\n",
        "            root += 1\n",
        "\n",
        "    return root"
      ],
      "metadata": {
        "id": "iFRGLo1Re2dG"
      },
      "execution_count": null,
      "outputs": []
    },
    {
      "cell_type": "code",
      "source": [
        "print(\"Primitive root for \" + str(p) + \" is \" + str(gen_primitive_root(p)))"
      ],
      "metadata": {
        "colab": {
          "base_uri": "https://localhost:8080/"
        },
        "id": "sfVcn63AfSOi",
        "outputId": "ce587d90-1567-49dc-da1e-0c585f0b163d"
      },
      "execution_count": null,
      "outputs": [
        {
          "output_type": "stream",
          "name": "stdout",
          "text": [
            "Primitive root for 43 is 3\n"
          ]
        }
      ]
    },
    {
      "cell_type": "markdown",
      "source": [
        "# **SHA**"
      ],
      "metadata": {
        "id": "UZbhHN0nfqcq"
      }
    },
    {
      "cell_type": "code",
      "source": [
        "import hashlib\n",
        "import random"
      ],
      "metadata": {
        "id": "NO_zM1zdfr52"
      },
      "execution_count": null,
      "outputs": []
    },
    {
      "cell_type": "code",
      "source": [
        "message = input(\"Enter message: \")"
      ],
      "metadata": {
        "colab": {
          "base_uri": "https://localhost:8080/"
        },
        "id": "gveTLWEbheXH",
        "outputId": "e909eae1-0c32-4789-f34d-e8b10dc237af"
      },
      "execution_count": null,
      "outputs": [
        {
          "name": "stdout",
          "output_type": "stream",
          "text": [
            "Enter message: Neil Mankodi TE - B1 60004190073\n"
          ]
        }
      ]
    },
    {
      "cell_type": "code",
      "source": [
        "def gen_hash(message):\n",
        "    d = hashlib.sha1(message.encode())\n",
        "    d = d.hexdigest()\n",
        "    return d\n",
        "\n",
        "def receiver_sha(message, d1):\n",
        "    d2 = gen_hash(message)\n",
        "    print(\"d1 =\", d1)\n",
        "    print(\"d2 =\", d2)\n",
        "    if d1 == d2:\n",
        "        print(\"\\nMessage digests match.\\nMessage integrity maintained.\\nMessage accepted.\")\n",
        "    else:\n",
        "        print(\"\\nMessage digests did not match.\\nMessage integrity violated.\\nMessage rejected.\")\n",
        "\n",
        "def attack_situation_sha(message, d1):\n",
        "    modified_text = random.sample(range(32, 127), len(message))\n",
        "    modified_text = [chr(i) for i in modified_text]\n",
        "    modified_text = \"\".join(modified_text)\n",
        "    receiver_sha(modified_text, d1)"
      ],
      "metadata": {
        "id": "f-GqAFDEhkxy"
      },
      "execution_count": null,
      "outputs": []
    },
    {
      "cell_type": "code",
      "source": [
        "d1 = gen_hash(message)\n",
        "receiver_sha(message, d1)"
      ],
      "metadata": {
        "colab": {
          "base_uri": "https://localhost:8080/"
        },
        "id": "_Zjgqdx7im6l",
        "outputId": "0f8662af-8c84-4a38-9805-4c2938d07d22"
      },
      "execution_count": null,
      "outputs": [
        {
          "output_type": "stream",
          "name": "stdout",
          "text": [
            "d1 = 0cb54983a0886d7ab79348da9876bc6597635253\n",
            "d2 = 0cb54983a0886d7ab79348da9876bc6597635253\n",
            "\n",
            "Message digests match.\n",
            "Message integrity maintained.\n",
            "Message accepted.\n"
          ]
        }
      ]
    },
    {
      "cell_type": "code",
      "source": [
        "attack_situation_sha(message, d1)"
      ],
      "metadata": {
        "colab": {
          "base_uri": "https://localhost:8080/"
        },
        "id": "yv23zNQBise7",
        "outputId": "f3acc661-90cb-4719-b9dc-6fc929a79cfa"
      },
      "execution_count": null,
      "outputs": [
        {
          "output_type": "stream",
          "name": "stdout",
          "text": [
            "d1 = 0cb54983a0886d7ab79348da9876bc6597635253\n",
            "d2 = 6c5f4c076059149a09202b508f6a46d5012a11aa\n",
            "\n",
            "Message digests did not match.\n",
            "Message integrity violated.\n",
            "Message rejected.\n"
          ]
        }
      ]
    },
    {
      "cell_type": "markdown",
      "source": [
        "# **Own Algorithm**"
      ],
      "metadata": {
        "id": "7Lf-EhDCi4yd"
      }
    },
    {
      "cell_type": "code",
      "source": [
        "import math"
      ],
      "metadata": {
        "id": "Aa0bpfQAjKR5"
      },
      "execution_count": 1,
      "outputs": []
    },
    {
      "cell_type": "code",
      "source": [
        "def gen_index(text):\n",
        "    index = []\n",
        "    for i in text:\n",
        "        if i == \"$\" or i == \" \":\n",
        "            index.append(-1)\n",
        "        else:\n",
        "            index.append(ord(i) - 96)\n",
        "\n",
        "    return index\n",
        "\n",
        "def gen_text(index):\n",
        "    text = []\n",
        "    for i in index:\n",
        "        if i == -1:\n",
        "            text.append(\" \")\n",
        "        else:\n",
        "            text.append(chr(i + 96))\n",
        "    return text\n",
        "\n",
        "def gen_key_prod(k_index):\n",
        "    odd = []\n",
        "    even = []\n",
        "    for i in k_index:\n",
        "        if i % 2 == 0:\n",
        "            even.append(i)\n",
        "        else:\n",
        "            odd.append(i)\n",
        "    \n",
        "    odd_prod = 1\n",
        "    even_prod = 1\n",
        "    key_prod = 0\n",
        "    \n",
        "    for i in odd:\n",
        "        odd_prod *= i\n",
        "        \n",
        "    for i in even:\n",
        "        even_prod *= i\n",
        "        \n",
        "    key_prod = odd_prod + even_prod\n",
        "    \n",
        "    return key_prod    "
      ],
      "metadata": {
        "id": "SXGM71YgmSic"
      },
      "execution_count": 2,
      "outputs": []
    },
    {
      "cell_type": "code",
      "source": [
        "def encrypt(p_text, p_index, k_index, key_prod, ttb):\n",
        "    sub_index = sub_encrypt(p_text, p_index, k_index, key_prod)\n",
        "    \n",
        "    temp = gen_text(sub_index)\n",
        "    sub_text = \"\".join(temp)\n",
        "    \n",
        "#     print(sub_text)\n",
        "    \n",
        "    c_text = trans_encrypt(sub_text, k_index, ttb)\n",
        "    \n",
        "    return c_text\n",
        "    \n",
        "def sub_encrypt(p_text, p_index, k_index, key_prod):\n",
        "    sub_index = []\n",
        "    \n",
        "    for i in range(len(p_index)):\n",
        "        if p_index[i] == -1:\n",
        "            sub_index.append(-1)\n",
        "        else:\n",
        "            sub_index.append((p_index[i] + key_prod) % 26)\n",
        "        \n",
        "    return sub_index \n",
        "\n",
        "def trans_encrypt(sub_text, k_index, ttb):\n",
        "    temp_subtext = list(sub_text)\n",
        "    key = len(k_index)\n",
        "    rows = math.ceil(len(temp_subtext) / key)\n",
        "    if len(sub_text) % key != 0:\n",
        "#         print(sub_text)\n",
        "        for i in range(key-len(temp_subtext)%key):\n",
        "            temp_subtext.append(\"$\")\n",
        "\n",
        "#     print(temp_subtext)\n",
        "    ciphertext = [0] * len(k_index)\n",
        "    sub_text = \"\".join(temp_subtext)\n",
        "    \n",
        "    zig_zag_text = zig_zag(sub_text, rows, key)\n",
        "    \n",
        "#     print(zig_zag_text)\n",
        "    \n",
        "    counter = 0\n",
        "    check = [-1]*len(k_index)\n",
        "    \n",
        "    while counter != key:\n",
        "        min_index = -1\n",
        "        min_element = 999\n",
        "        for i in range(len(k_index)):\n",
        "            if k_index[i] < min_element and check[i] != 1:\n",
        "                min_index = i\n",
        "                min_element = k_index[i]\n",
        "        \n",
        "        temp = zig_zag_text[min_index::key]\n",
        "        \n",
        "        if (min_element % 2 == 0 and ttb == \"even\") or (min_element % 2 != 0 and ttb == \"odd\"):\n",
        "            ciphertext[counter] = temp\n",
        "        else:\n",
        "            ciphertext[counter] = temp[::-1]\n",
        "        \n",
        "        check[min_index] = 1\n",
        "        counter += 1\n",
        "    \n",
        "    ciphertext = \"\".join(ciphertext)\n",
        "    \n",
        "    return ciphertext\n",
        "\n",
        "def zig_zag(sub_text, rows, key):\n",
        "    zig_zag_text = []\n",
        "    for i in range(rows):\n",
        "        if i % 2 == 0:\n",
        "            zig_zag_text.append(sub_text[i*key : (i+1)*key])\n",
        "        else:\n",
        "            zig_zag_text.append(sub_text[((i+1)*key) - 1 : (i*key) - 1 : -1])\n",
        "    \n",
        "#     print(zig_zag_text)\n",
        "    zig_zag_text = \"\".join(zig_zag_text)\n",
        "    return zig_zag_text"
      ],
      "metadata": {
        "id": "JrhItC10mYO-"
      },
      "execution_count": 3,
      "outputs": []
    },
    {
      "cell_type": "code",
      "source": [
        "def decrypt(c_text, k_text, ttb, key_prod):\n",
        "    k_index = gen_index(k_text)\n",
        "    key = len(k_index)\n",
        "    rows = math.ceil(len(c_text) / key)\n",
        "    \n",
        "    trans_text = trans_decrypt(k_index, key, c_text, rows, ttb)\n",
        "    \n",
        "    plain_text = sub_decrypt(trans_text, key_prod)\n",
        "    \n",
        "    return plain_text\n",
        "\n",
        "def trans_decrypt(k_index, key, c_text, rows, ttb):\n",
        "    counter = 0\n",
        "    check = [-1]*len(k_index)\n",
        "    ciphertext = [0] * len(k_index)\n",
        "    \n",
        "    while counter != key:\n",
        "        min_index = -1\n",
        "        min_element = 999\n",
        "        for i in range(len(k_index)):\n",
        "            if k_index[i] < min_element and check[i] != 1:\n",
        "                min_index = i\n",
        "                min_element = k_index[i]\n",
        "        \n",
        "        temp = c_text[counter*rows : (counter + 1)*rows]\n",
        "        if (min_element % 2 == 0 and ttb == \"even\") or (min_element % 2 != 0 and ttb == \"odd\"):\n",
        "            ciphertext[min_index] = temp\n",
        "        else:\n",
        "            ciphertext[min_index] = temp[::-1]\n",
        "        \n",
        "        check[min_index] = 1\n",
        "        counter += 1\n",
        "    \n",
        "    temp_text = []\n",
        "    \n",
        "#     print(ciphertext)\n",
        "    \n",
        "    for i in range(rows):\n",
        "        for j in range(key):\n",
        "            temp_text.append(ciphertext[j][i])\n",
        "            \n",
        "    ciphertext = \"\".join(temp_text)\n",
        "    \n",
        "    temp_text = [0] * rows\n",
        "    for i in range(rows):\n",
        "        if i % 2 == 0:\n",
        "            temp_text[i] = ciphertext[i*key : (i+1)*key]\n",
        "        else:\n",
        "            temp_text[i] = ciphertext[(i+1)*key - 1 : i*key - 1 : -1]\n",
        "\n",
        "    ciphertext = \"\".join(temp_text)\n",
        "    \n",
        "#     print(ciphertext)\n",
        "    \n",
        "    return ciphertext\n",
        "\n",
        "def sub_decrypt(trans_text, key_prod):\n",
        "    trans_index = gen_index(trans_text)\n",
        "    \n",
        "    plain_index = []\n",
        "    \n",
        "    for i in trans_index:\n",
        "        if i == -1:\n",
        "            plain_index.append(i)\n",
        "        else:\n",
        "            temp = i - key_prod\n",
        "            if temp < 0:\n",
        "                temp += 26\n",
        "            plain_index.append(temp)\n",
        "        \n",
        "    plain_text_list = []\n",
        "    for i in plain_index:\n",
        "        if i == -1:\n",
        "            plain_text_list.append(\" \")\n",
        "        else:\n",
        "            plain_text_list.append(chr(i + 96))\n",
        "        \n",
        "    plain_text = \"\".join(plain_text_list)\n",
        "    \n",
        "    return plain_text"
      ],
      "metadata": {
        "id": "qqr7vVwrmcNj"
      },
      "execution_count": 4,
      "outputs": []
    },
    {
      "cell_type": "code",
      "source": [
        "p_text = input(\"Enter plaintext: \").lower()\n",
        "k_text = input(\"Enter keytext: \").lower()"
      ],
      "metadata": {
        "colab": {
          "base_uri": "https://localhost:8080/"
        },
        "id": "xhq9yBuNmhN8",
        "outputId": "759766ec-9b06-4ecf-baaa-496f06d62584"
      },
      "execution_count": 5,
      "outputs": [
        {
          "name": "stdout",
          "output_type": "stream",
          "text": [
            "Enter plaintext: neil a mankodi\n",
            "Enter keytext: ade\n"
          ]
        }
      ]
    },
    {
      "cell_type": "code",
      "source": [
        "k_index = gen_index(k_text)\n",
        "p_index = gen_index(p_text)\n",
        "key_prod = gen_key_prod(k_index)\n",
        "if key_prod % 2 == 0:\n",
        "    ttb = \"even\"\n",
        "else:\n",
        "    ttb = \"odd\"\n",
        "\n",
        "c_text = encrypt(p_text, p_index, k_index, key_prod, ttb)\n",
        "\n",
        "print(\"plaintext: {}\".format(p_text))\n",
        "print(\"ciphertext: {}\".format(c_text))"
      ],
      "metadata": {
        "colab": {
          "base_uri": "https://localhost:8080/"
        },
        "id": "GyiMrecqmmHb",
        "outputId": "f5136efd-739f-4b54-a97b-9bd7f9877d7a"
      },
      "execution_count": 6,
      "outputs": [
        {
          "output_type": "stream",
          "name": "stdout",
          "text": [
            "plaintext: neil a mankodi\n",
            "ciphertext: wj xmrtv nrujw$\n"
          ]
        }
      ]
    },
    {
      "cell_type": "code",
      "source": [
        "plain_text = decrypt(c_text, k_text, ttb, key_prod)\n",
        "\n",
        "print(\"ciphertext: {}\".format(c_text))\n",
        "print(\"plaintext: {}\".format(plain_text))"
      ],
      "metadata": {
        "colab": {
          "base_uri": "https://localhost:8080/"
        },
        "id": "Y4ldt4MCmu42",
        "outputId": "7067833f-c0f8-4c8a-897b-2c4df3b79d91"
      },
      "execution_count": 7,
      "outputs": [
        {
          "output_type": "stream",
          "name": "stdout",
          "text": [
            "ciphertext: wj xmrtv nrujw$\n",
            "plaintext: neil a mankodi \n"
          ]
        }
      ]
    }
  ]
}