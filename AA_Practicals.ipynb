{
  "nbformat": 4,
  "nbformat_minor": 0,
  "metadata": {
    "colab": {
      "name": "AA Practicals.ipynb",
      "provenance": [],
      "collapsed_sections": [
        "CC3Qe9ZDEJ2h",
        "pyrr_g-8ZJxn",
        "zS09FhXdWKpr",
        "i_F-mLXaDMrm"
      ],
      "authorship_tag": "ABX9TyMVia3ZWmEY4iWhOSbb0C1a",
      "include_colab_link": true
    },
    "kernelspec": {
      "name": "python3",
      "display_name": "Python 3"
    },
    "language_info": {
      "name": "python"
    }
  },
  "cells": [
    {
      "cell_type": "markdown",
      "metadata": {
        "id": "view-in-github",
        "colab_type": "text"
      },
      "source": [
        "<a href=\"https://colab.research.google.com/github/NeilMankodi/Sem-6-Pracs/blob/main/AA_Practicals.ipynb\" target=\"_parent\"><img src=\"https://colab.research.google.com/assets/colab-badge.svg\" alt=\"Open In Colab\"/></a>"
      ]
    },
    {
      "cell_type": "markdown",
      "source": [
        "# **Amortized Analysis**"
      ],
      "metadata": {
        "id": "CC3Qe9ZDEJ2h"
      }
    },
    {
      "cell_type": "code",
      "execution_count": null,
      "metadata": {
        "colab": {
          "base_uri": "https://localhost:8080/"
        },
        "id": "Pmih8pWAEEdo",
        "outputId": "bb323b93-9d42-47f2-d94a-3fab695e6153"
      },
      "outputs": [
        {
          "name": "stdout",
          "output_type": "stream",
          "text": [
            "Enter number of elements to be inserted: 9\n"
          ]
        }
      ],
      "source": [
        "n = int(input(\"Enter number of elements to be inserted: \"))\n",
        "\n",
        "current_table_size = 0\n",
        "total_cost_table = []\n",
        "table_size = []\n",
        "current_size = 0\n",
        "\n",
        "for i in range(1, n+1):\n",
        "    if current_size == current_table_size:\n",
        "        if current_size == 0:\n",
        "            current_table_size = 1\n",
        "        else:\n",
        "            current_table_size *= 2\n",
        "        \n",
        "        current_size += 1\n",
        "        total_cost_table.append(current_size)\n",
        "        table_size.append(current_table_size)\n",
        "    else:\n",
        "        current_size += 1\n",
        "        total_cost_table.append(1)\n",
        "        table_size.append(current_table_size)"
      ]
    },
    {
      "cell_type": "code",
      "source": [
        "def print_table(n, table_size, total_cost_table):\n",
        "    print(\"Legend -->\\nIN = Item Number\\nTS = Table Size\\nTC = Total Cost\\nCO = Cost of Operation\\nCD = Cost of Doubling\\n\")\n",
        "    print(\"IN\\tTS\\tTC\\tCO\\tCD\")\n",
        "    for i in range(n):\n",
        "        print(str(i+1) + \"\\t \" + str(table_size[i]) + \"\\t \" + str(total_cost_table[i]) + \"\\t 1\\t \" + str(total_cost_table[i] - 1))"
      ],
      "metadata": {
        "id": "ITPU3WesNCm9"
      },
      "execution_count": null,
      "outputs": []
    },
    {
      "cell_type": "code",
      "source": [
        "print_table(n, table_size, total_cost_table)"
      ],
      "metadata": {
        "colab": {
          "base_uri": "https://localhost:8080/"
        },
        "id": "ME6ot2nrOcdx",
        "outputId": "da68ad78-5a5c-4c3a-b9cc-82d1d8c797d9"
      },
      "execution_count": null,
      "outputs": [
        {
          "output_type": "stream",
          "name": "stdout",
          "text": [
            "Legend -->\n",
            "IN = Item Number\n",
            "TS = Table Size\n",
            "TC = Total Cost\n",
            "CO = Cost of Operation\n",
            "CD = Cost of Doubling\n",
            "\n",
            "IN\tTS\tTC\tCO\tCD\n",
            "1\t 1\t 1\t 1\t 0\n",
            "2\t 2\t 2\t 1\t 1\n",
            "3\t 4\t 3\t 1\t 2\n",
            "4\t 4\t 1\t 1\t 0\n",
            "5\t 8\t 5\t 1\t 4\n",
            "6\t 8\t 1\t 1\t 0\n",
            "7\t 8\t 1\t 1\t 0\n",
            "8\t 8\t 1\t 1\t 0\n",
            "9\t 16\t 9\t 1\t 8\n"
          ]
        }
      ]
    },
    {
      "cell_type": "markdown",
      "source": [
        "Aggregate Method\n",
        "\n",
        "---\n",
        "\n"
      ],
      "metadata": {
        "id": "Pw_YBx4lHqq7"
      }
    },
    {
      "cell_type": "code",
      "source": [
        "total_cost = sum(total_cost_table)\n",
        "avg_cost = round((total_cost / n), 2)\n",
        "\n",
        "print(\"By aggregate method the average cost of operation over \" + str(n) + \" elements is \" + str(avg_cost))"
      ],
      "metadata": {
        "colab": {
          "base_uri": "https://localhost:8080/"
        },
        "id": "zoPdzkXhHvkb",
        "outputId": "5aac49ad-98d4-4ff5-8efd-88e4e49290c4"
      },
      "execution_count": null,
      "outputs": [
        {
          "output_type": "stream",
          "name": "stdout",
          "text": [
            "By aggregate method the average cost of operation over 9 elements is 2.67\n"
          ]
        }
      ]
    },
    {
      "cell_type": "markdown",
      "source": [
        "Accounting Method\n",
        "\n",
        "---\n",
        "\n"
      ],
      "metadata": {
        "id": "v4l4ghn0Iroq"
      }
    },
    {
      "cell_type": "code",
      "source": [
        "import math\n",
        "\n",
        "avg_cost = round((total_cost / n), 2)\n",
        "amortized_cost_accounting = math.floor(avg_cost)\n",
        "\n",
        "found = 0\n",
        "\n",
        "while found != 1:\n",
        "    i = 0\n",
        "    bank = [amortized_cost_accounting] * n\n",
        "    print(\"Checking if amortized cost of \" + str(amortized_cost_accounting) + \" is appropriate...\")\n",
        "    for i in range(n):\n",
        "        if i != 0:\n",
        "            bank[i] += bank[i-1]\n",
        "        \n",
        "        bank[i] -= total_cost_table[i]\n",
        "\n",
        "        if bank[i] < 0:\n",
        "            break\n",
        "\n",
        "        if bank[i] >= 0 and i == n-1:\n",
        "            found = 1\n",
        "    \n",
        "    if found != 1:\n",
        "        print(\"trial unsuccessful\\n\")\n",
        "        amortized_cost_accounting += 1\n",
        "\n",
        "print(\"trial successful\")"
      ],
      "metadata": {
        "colab": {
          "base_uri": "https://localhost:8080/"
        },
        "id": "mSC3MlAfIuYZ",
        "outputId": "52c7613e-fb62-4b36-f70f-ec5ad41ca636"
      },
      "execution_count": null,
      "outputs": [
        {
          "output_type": "stream",
          "name": "stdout",
          "text": [
            "Checking if amortized cost of 2 is appropriate...\n",
            "trial unsuccessful\n",
            "\n",
            "Checking if amortized cost of 3 is appropriate...\n",
            "trial successful\n"
          ]
        }
      ]
    },
    {
      "cell_type": "code",
      "source": [
        "def print_table_accounting(n, table_size, total_cost_table, amortized_cost, bank):\n",
        "    print(\"Legend -->\\nIN = Item Number\\nTS = Table Size\\nTC = Total Cost\\nCO = Cost of Operation\\nCD = Cost of Doubling\\nAC = Amortized Cost\\nB = Bank\\n\")\n",
        "    print(\"IN\\tTS\\tTC\\tCO\\tCD\\tAC\\tB\")\n",
        "    for i in range(n):\n",
        "        print(str(i+1) + \"\\t \" + str(table_size[i]) + \"\\t \" + str(total_cost_table[i]) + \"\\t 1\\t \" + str(total_cost_table[i] - 1) + \"\\t \" + str(amortized_cost) + \"\\t\" + str(bank[i]))\n",
        "\n",
        "    total_amortized_cost = amortized_cost * n\n",
        "    total_actual_cost = sum(total_cost_table)\n",
        "\n",
        "    print(\"\\nTotal Amortized Cost (\" + str(total_amortized_cost) + \") >= Total Actual Cost (\" + str(total_actual_cost) + \")\")\n",
        "    print(\"Hence upper bound proved by accounting method\")"
      ],
      "metadata": {
        "id": "sZXTZU5WQNYY"
      },
      "execution_count": null,
      "outputs": []
    },
    {
      "cell_type": "code",
      "source": [
        "print_table_accounting(n, table_size, total_cost_table, amortized_cost_accounting, bank)"
      ],
      "metadata": {
        "colab": {
          "base_uri": "https://localhost:8080/"
        },
        "id": "pFnzKN-6QovT",
        "outputId": "ae5b0964-2d20-4ff2-fa72-2ebe1a72995b"
      },
      "execution_count": null,
      "outputs": [
        {
          "output_type": "stream",
          "name": "stdout",
          "text": [
            "Legend -->\n",
            "IN = Item Number\n",
            "TS = Table Size\n",
            "TC = Total Cost\n",
            "CO = Cost of Operation\n",
            "CD = Cost of Doubling\n",
            "AC = Amortized Cost\n",
            "B = Bank\n",
            "\n",
            "IN\tTS\tTC\tCO\tCD\tAC\tB\n",
            "1\t 1\t 1\t 1\t 0\t 3\t2\n",
            "2\t 2\t 2\t 1\t 1\t 3\t3\n",
            "3\t 4\t 3\t 1\t 2\t 3\t3\n",
            "4\t 4\t 1\t 1\t 0\t 3\t5\n",
            "5\t 8\t 5\t 1\t 4\t 3\t3\n",
            "6\t 8\t 1\t 1\t 0\t 3\t5\n",
            "7\t 8\t 1\t 1\t 0\t 3\t7\n",
            "8\t 8\t 1\t 1\t 0\t 3\t9\n",
            "9\t 16\t 9\t 1\t 8\t 3\t3\n",
            "\n",
            "Total Amortized Cost (27) >= Total Actual Cost (24)\n",
            "Hence upper bound proved by accounting method\n"
          ]
        }
      ]
    },
    {
      "cell_type": "markdown",
      "source": [
        "Potential Method\n",
        "\n",
        "---\n",
        "\n"
      ],
      "metadata": {
        "id": "OgZB2EnbVGhh"
      }
    },
    {
      "cell_type": "code",
      "source": [
        "potential = [0] * (n+1)\n",
        "amortized_cost_potential = [0] * (n+1)\n",
        "\n",
        "for i in range(1, n+1):\n",
        "    potential[i] = 2*i - table_size[i-1]\n",
        "    amortized_cost_potential[i] = total_cost_table[i-1] + (potential[i] - potential[i-1])"
      ],
      "metadata": {
        "id": "L26Cd8SWVIwj"
      },
      "execution_count": null,
      "outputs": []
    },
    {
      "cell_type": "code",
      "source": [
        "def print_table_potential(n, table_size, total_cost_table, potential, amortized_cost_potential):\n",
        "    print(\"Legend -->\\nIN = Item Number\\nTS = Table Size\\nTC = Total Cost\\nCO = Cost of Operation\\nCD = Cost of Doubling\\nP = Potential\\nAC = Amortized Cost\\n\")\n",
        "    print(\"IN\\tTS\\tTC\\tCO\\tCD\\tP\\tAC\")\n",
        "    for i in range(n):\n",
        "        print(str(i+1) + \"\\t \" + str(table_size[i]) + \"\\t \" + str(total_cost_table[i]) + \"\\t 1\\t \" + str(total_cost_table[i] - 1) + \"\\t\" + str(potential[i+1]) + \"\\t \" + str(amortized_cost_potential[i+1]))\n",
        "\n",
        "    total_amortized_cost = sum(amortized_cost_potential)\n",
        "    total_actual_cost = sum(total_cost_table)\n",
        "\n",
        "    print(\"\\nTotal Amortized Cost (\" + str(total_amortized_cost) + \") >= Total Actual Cost (\" + str(total_actual_cost) + \")\")\n",
        "    print(\"Hence upper bound proved by potenial method\")"
      ],
      "metadata": {
        "id": "gS5f8ULNW3M2"
      },
      "execution_count": null,
      "outputs": []
    },
    {
      "cell_type": "code",
      "source": [
        "print_table_potential(n, table_size, total_cost_table, potential, amortized_cost_potential)"
      ],
      "metadata": {
        "colab": {
          "base_uri": "https://localhost:8080/"
        },
        "id": "sH_QKsTnXZ-o",
        "outputId": "33d54d76-c2f3-4e73-b3cd-d6f2cbcd9747"
      },
      "execution_count": null,
      "outputs": [
        {
          "output_type": "stream",
          "name": "stdout",
          "text": [
            "Legend -->\n",
            "IN = Item Number\n",
            "TS = Table Size\n",
            "TC = Total Cost\n",
            "CO = Cost of Operation\n",
            "CD = Cost of Doubling\n",
            "P = Potential\n",
            "AC = Amortized Cost\n",
            "\n",
            "IN\tTS\tTC\tCO\tCD\tP\tAC\n",
            "1\t 1\t 1\t 1\t 0\t1\t 2\n",
            "2\t 2\t 2\t 1\t 1\t2\t 3\n",
            "3\t 4\t 3\t 1\t 2\t2\t 3\n",
            "4\t 4\t 1\t 1\t 0\t4\t 3\n",
            "5\t 8\t 5\t 1\t 4\t2\t 3\n",
            "6\t 8\t 1\t 1\t 0\t4\t 3\n",
            "7\t 8\t 1\t 1\t 0\t6\t 3\n",
            "8\t 8\t 1\t 1\t 0\t8\t 3\n",
            "9\t 16\t 9\t 1\t 8\t2\t 3\n",
            "\n",
            "Total Amortized Cost (26) >= Total Actual Cost (24)\n",
            "Hence upper bound proved by potenial method\n"
          ]
        }
      ]
    },
    {
      "cell_type": "markdown",
      "source": [
        "# **Hiring Problem**"
      ],
      "metadata": {
        "id": "pyrr_g-8ZJxn"
      }
    },
    {
      "cell_type": "code",
      "source": [
        "import random\n",
        "\n",
        "n = int(input(\"Enter the number of candidates: \"))\n",
        "daily = int(input(\"Enter daily salary: \"))\n",
        "i_cost = int(input(\"Enter interview cost: \"))\n",
        "\n",
        "worst_seq = [i*10 for i in range(1, 16)]\n",
        "random_seq = worst_seq[:]\n",
        "random.shuffle(random_seq)"
      ],
      "metadata": {
        "colab": {
          "base_uri": "https://localhost:8080/"
        },
        "id": "CoN5tjNMZPvE",
        "outputId": "84bd6d08-bf6a-4995-bd37-6f8f6be485fe"
      },
      "execution_count": null,
      "outputs": [
        {
          "name": "stdout",
          "output_type": "stream",
          "text": [
            "Enter the number of candidates: 15\n",
            "Enter daily salary: 1000\n",
            "Enter interview cost: 1000\n"
          ]
        }
      ]
    },
    {
      "cell_type": "code",
      "source": [
        "def gen_hiring_cost(arr, daily):\n",
        "    hiring_cost = [0] * (len(arr) + 1)\n",
        "\n",
        "    current_skill = arr[0]\n",
        "    day_of_hire = 1\n",
        "\n",
        "    for i in range(2, len(arr)+1):\n",
        "        if arr[i-1] > current_skill:\n",
        "            current_skill = arr[i-1]\n",
        "            hiring_cost[i] = ((i - day_of_hire + 1) * daily)\n",
        "            day_of_hire = i\n",
        "    \n",
        "    return hiring_cost\n",
        "\n",
        "def print_results(hiring_cost, i_cost, n, seq):\n",
        "    print(\"Legend -->\\nC = Candidate\\nS = Skill\\nI = Interview Cost\\nF = Firing Cost\\n\")\n",
        "    print(\"C\\tS\\tI\\tF\")\n",
        "\n",
        "    for i in range(n):\n",
        "        print(\"C\" + str(int(seq[i] / 10)) + \"\\t\" + str(seq[i]) + \"\\t$\" + str(i_cost) + \"\\t$\" + str(hiring_cost[i+1]))\n",
        "\n",
        "    print(\"\\nTotal Cost: $\" + str(sum(hiring_cost) + n*i_cost))"
      ],
      "metadata": {
        "id": "Q_S1QVhYykWF"
      },
      "execution_count": null,
      "outputs": []
    },
    {
      "cell_type": "code",
      "source": [
        "hiring_cost_worst = gen_hiring_cost(worst_seq, daily)\n",
        "hiring_cost_random = gen_hiring_cost(random_seq, daily)"
      ],
      "metadata": {
        "id": "MU6wogsLy6zz"
      },
      "execution_count": null,
      "outputs": []
    },
    {
      "cell_type": "code",
      "source": [
        "print_results(hiring_cost_worst, i_cost, n, worst_seq)"
      ],
      "metadata": {
        "colab": {
          "base_uri": "https://localhost:8080/"
        },
        "id": "Qyh-WYWf2F9r",
        "outputId": "91cf5e8c-3e82-4369-e336-ac370611ebde"
      },
      "execution_count": null,
      "outputs": [
        {
          "output_type": "stream",
          "name": "stdout",
          "text": [
            "Legend -->\n",
            "C = Candidate\n",
            "S = Skill\n",
            "I = Interview Cost\n",
            "F = Firing Cost\n",
            "\n",
            "C\tS\tI\tF\n",
            "C1\t10\t$1000\t$0\n",
            "C2\t20\t$1000\t$2000\n",
            "C3\t30\t$1000\t$2000\n",
            "C4\t40\t$1000\t$2000\n",
            "C5\t50\t$1000\t$2000\n",
            "C6\t60\t$1000\t$2000\n",
            "C7\t70\t$1000\t$2000\n",
            "C8\t80\t$1000\t$2000\n",
            "C9\t90\t$1000\t$2000\n",
            "C10\t100\t$1000\t$2000\n",
            "C11\t110\t$1000\t$2000\n",
            "C12\t120\t$1000\t$2000\n",
            "C13\t130\t$1000\t$2000\n",
            "C14\t140\t$1000\t$2000\n",
            "C15\t150\t$1000\t$2000\n",
            "\n",
            "Total Cost: $43000\n"
          ]
        }
      ]
    },
    {
      "cell_type": "code",
      "source": [
        "print_results(hiring_cost_random, i_cost, n, random_seq)"
      ],
      "metadata": {
        "colab": {
          "base_uri": "https://localhost:8080/"
        },
        "id": "QKr2vhve2eyE",
        "outputId": "73984191-d20f-416e-a820-35d8bbce3374"
      },
      "execution_count": null,
      "outputs": [
        {
          "output_type": "stream",
          "name": "stdout",
          "text": [
            "Legend -->\n",
            "C = Candidate\n",
            "S = Skill\n",
            "I = Interview Cost\n",
            "F = Firing Cost\n",
            "\n",
            "C\tS\tI\tF\n",
            "C7\t70\t$1000\t$0\n",
            "C9\t90\t$1000\t$2000\n",
            "C5\t50\t$1000\t$0\n",
            "C4\t40\t$1000\t$0\n",
            "C6\t60\t$1000\t$0\n",
            "C3\t30\t$1000\t$0\n",
            "C13\t130\t$1000\t$6000\n",
            "C12\t120\t$1000\t$0\n",
            "C1\t10\t$1000\t$0\n",
            "C8\t80\t$1000\t$0\n",
            "C2\t20\t$1000\t$0\n",
            "C15\t150\t$1000\t$6000\n",
            "C14\t140\t$1000\t$0\n",
            "C11\t110\t$1000\t$0\n",
            "C10\t100\t$1000\t$0\n",
            "\n",
            "Total Cost: $29000\n"
          ]
        }
      ]
    },
    {
      "cell_type": "markdown",
      "source": [
        "# **Randomized Quicksort**"
      ],
      "metadata": {
        "id": "zS09FhXdWKpr"
      }
    },
    {
      "cell_type": "code",
      "source": [
        "import random\n",
        "\n",
        "def partition(arr, low, high):\n",
        "    i = low - 1\n",
        "    pivot = high\n",
        "\n",
        "    for j in range(low, high):\n",
        "        if arr[j] < arr[pivot]:\n",
        "            i += 1\n",
        "            swap = arr[j]\n",
        "            arr[j] = arr[i]\n",
        "            arr[i] = swap\n",
        "\n",
        "    swap = arr[i+1]\n",
        "    arr[i+1] = arr[pivot]\n",
        "    arr[pivot] = swap\n",
        "\n",
        "    return i+1\n",
        "\n",
        "def quicksort(arr, low, high):\n",
        "    if low < high:\n",
        "        q = partition(arr, low, high)\n",
        "        quicksort(arr, low, q-1)\n",
        "        quicksort(arr, q+1, high)\n",
        "\n",
        "def random_partition(arr, low, high):\n",
        "    index = random.choice(range(low, high+1))\n",
        "    swap = arr[index]\n",
        "    arr[index] = arr[high]\n",
        "    arr[high] = swap\n",
        "    return partition(arr, low, high)\n",
        "\n",
        "def random_quicksort(arr, low, high):\n",
        "    if low < high:\n",
        "        q = random_partition(arr, low, high)\n",
        "        random_quicksort(arr, low, q-1)\n",
        "        random_quicksort(arr, q+1, high)"
      ],
      "metadata": {
        "id": "Uq9lkZuXWGoq"
      },
      "execution_count": null,
      "outputs": []
    },
    {
      "cell_type": "code",
      "source": [
        "from datetime import datetime\n",
        "\n",
        "worst_time = []\n",
        "random_time = []\n",
        "\n",
        "elements = [100, 150, 200, 250]\n",
        "\n",
        "for element in elements:\n",
        "    worst_seq = [i for i in range(element)]\n",
        "    random_seq = worst_seq[:]\n",
        "    random.shuffle(random_seq)\n",
        "\n",
        "    now_worst = datetime.now()\n",
        "    quicksort(worst_seq, 0, len(worst_seq) - 1)\n",
        "    then_worst = datetime.now()\n",
        "    time_worst = then_worst - now_worst\n",
        "    worst_time.append(time_worst.microseconds)\n",
        "\n",
        "    now_random = datetime.now()\n",
        "    quicksort(random_seq, 0, len(random_seq) - 1)\n",
        "    then_random = datetime.now()\n",
        "    time_random = then_random - now_random\n",
        "    random_time.append(time_random.microseconds)"
      ],
      "metadata": {
        "id": "QKLGWUWhXvMN"
      },
      "execution_count": null,
      "outputs": []
    },
    {
      "cell_type": "code",
      "source": [
        "print(\"Legend -->\\nE = Elements\\nN = Normal Quick Sort\\nR = Randomized Quick Sort\\n\")\n",
        "\n",
        "print(\"E\\t\\tN\\t\\tR\")\n",
        "for i in range(len(elements)):\n",
        "    print(str(elements[i]) + \"\\t\\t\" + str(worst_time[i]) + \" μs\\t\\t\" + str(random_time[i]) + \" μs\")"
      ],
      "metadata": {
        "colab": {
          "base_uri": "https://localhost:8080/"
        },
        "id": "js2WzRZBbI9k",
        "outputId": "d2237681-9dbf-46f9-aa10-f0903a8f3142"
      },
      "execution_count": null,
      "outputs": [
        {
          "output_type": "stream",
          "name": "stdout",
          "text": [
            "Legend -->\n",
            "E = Elements\n",
            "N = Normal Quick Sort\n",
            "R = Randomized Quick Sort\n",
            "\n",
            "E\t\tN\t\tR\n",
            "100\t\t1279 μs\t\t170 μs\n",
            "150\t\t2774 μs\t\t231 μs\n",
            "200\t\t4798 μs\t\t358 μs\n",
            "250\t\t7633 μs\t\t499 μs\n"
          ]
        }
      ]
    },
    {
      "cell_type": "markdown",
      "source": [
        "# **Ford Fulkerson**"
      ],
      "metadata": {
        "id": "i_F-mLXaDMrm"
      }
    },
    {
      "cell_type": "code",
      "source": [
        "import matplotlib.pyplot as plt\n",
        "import networkx as nx"
      ],
      "metadata": {
        "id": "UjGF1loeDPgz"
      },
      "execution_count": null,
      "outputs": []
    },
    {
      "cell_type": "code",
      "source": [
        "G = nx.DiGraph()\n",
        "\n",
        "G.add_edge(\"0\", \"1\", weight=8)\n",
        "G.add_edge(\"0\", \"3\", weight=3)\n",
        "G.add_edge(\"1\", \"2\", weight=9)\n",
        "G.add_edge(\"2\", \"5\", weight=2)\n",
        "G.add_edge(\"3\", \"2\", weight=7)\n",
        "G.add_edge(\"3\", \"4\", weight=4)\n",
        "G.add_edge(\"4\", \"5\", weight=5)"
      ],
      "metadata": {
        "id": "Wldv_pf3DVEQ"
      },
      "execution_count": null,
      "outputs": []
    },
    {
      "cell_type": "code",
      "source": [
        "def draw_graph(G):\n",
        "    pos = nx.spring_layout(G)\n",
        "    nx.draw_networkx(G, pos, with_labels=True, font_weight=\"bold\")\n",
        "    labels = nx.get_edge_attributes(G, \"weight\")\n",
        "    nx.draw_networkx_edge_labels(G, pos, edge_labels=labels)\n",
        "    plt.show()"
      ],
      "metadata": {
        "id": "Os4y6_foDxYe"
      },
      "execution_count": null,
      "outputs": []
    },
    {
      "cell_type": "code",
      "source": [
        "max_flow = 0\n",
        "paths = nx.all_simple_paths(G, source=\"0\", target=\"5\")\n",
        "\n",
        "for path in paths:\n",
        "    capacity = 1000\n",
        "    \n",
        "    x = 0\n",
        "    y = 1\n",
        "    while y != len(path):\n",
        "        if G[path[x]][path[y]][\"weight\"] < capacity:\n",
        "            capacity = G[path[x]][path[y]][\"weight\"]\n",
        "        \n",
        "        x += 1\n",
        "        y += 1\n",
        "    \n",
        "    max_flow += capacity\n",
        "\n",
        "    x = 0\n",
        "    y = 1\n",
        "    while y != len(path):\n",
        "        G[path[x]][path[y]][\"weight\"] -= capacity\n",
        "\n",
        "        x += 1\n",
        "        y += 1\n",
        "\n",
        "    print(\"\\nCapacity for path \" + str(path) + \" is = \" + str(capacity))\n",
        "    draw_graph(G)\n",
        "\n",
        "print(\"\\nMax flow for given graph =\", max_flow)"
      ],
      "metadata": {
        "colab": {
          "base_uri": "https://localhost:8080/",
          "height": 849
        },
        "id": "qM7XIWVPELhS",
        "outputId": "9d005ec8-a747-4740-9bdd-9f0bcc152711"
      },
      "execution_count": null,
      "outputs": [
        {
          "output_type": "stream",
          "name": "stdout",
          "text": [
            "\n",
            "Capacity for path ['0', '1', '2', '5'] is = 2\n"
          ]
        },
        {
          "output_type": "display_data",
          "data": {
            "text/plain": [
              "<Figure size 432x288 with 1 Axes>"
            ],
            "image/png": "[encoded data removed]"
          },
          "metadata": {}
        },
        {
          "output_type": "stream",
          "name": "stdout",
          "text": [
            "\n",
            "Capacity for path ['0', '3', '2', '5'] is = 0\n"
          ]
        },
        {
          "output_type": "display_data",
          "data": {
            "text/plain": [
              "<Figure size 432x288 with 1 Axes>"
            ],
            "image/png": "[encoded data removed]"
          },
          "metadata": {}
        },
        {
          "output_type": "stream",
          "name": "stdout",
          "text": [
            "\n",
            "Capacity for path ['0', '3', '4', '5'] is = 3\n"
          ]
        },
        {
          "output_type": "display_data",
          "data": {
            "text/plain": [
              "<Figure size 432x288 with 1 Axes>"
            ],
            "image/png": "[encoded data removed]"
          },
          "metadata": {}
        },
        {
          "output_type": "stream",
          "name": "stdout",
          "text": [
            "\n",
            "Max flow for given graph = 5\n"
          ]
        }
      ]
    },
    {
      "cell_type": "markdown",
      "source": [
        "# **RB Tree Insertion**"
      ],
      "metadata": {
        "id": "gAGAhkMi8rLD"
      }
    },
    {
      "cell_type": "code",
      "source": [
        "import sys\n",
        "\n",
        "class Node():\n",
        "    def __init__(self, item):\n",
        "        self.item = item\n",
        "        self.parent = None\n",
        "        self.left = None\n",
        "        self.right = None\n",
        "        self.color = 1\n",
        "\n",
        "class RedBlackTree():\n",
        "    def __init__(self):\n",
        "        self.TNULL = Node(0)\n",
        "        self.TNULL.left = None\n",
        "        self.TNULL.right = None\n",
        "        self.TNULL.color = 0\n",
        "        self.root = self.TNULL\n",
        "\n",
        "    def insert(self, key):\n",
        "        node = Node(key)\n",
        "        node.item = key\n",
        "        node.parent = None\n",
        "        node.left = self.TNULL\n",
        "        node.right = self.TNULL\n",
        "        node.color = 1\n",
        "\n",
        "        y = None\n",
        "        x = self.root\n",
        "\n",
        "        while x != self.TNULL:\n",
        "            y = x\n",
        "            if node.item < x.item:\n",
        "                x = x.left\n",
        "            else:\n",
        "                x = x.right\n",
        "\n",
        "        node.parent = y\n",
        "        if y == None:\n",
        "            self.root = node\n",
        "        elif node.item < y.item:\n",
        "            y.left = node\n",
        "        else:\n",
        "            y.right = node\n",
        "        \n",
        "        if node.parent == None:\n",
        "            node.color = 0\n",
        "            return\n",
        "\n",
        "        if node.parent.parent == None:\n",
        "            return\n",
        "\n",
        "        self.fix_insert(node)\n",
        "\n",
        "    def fix_insert(self, k):\n",
        "        while k.parent.color == 1:\n",
        "            if k.parent == k.parent.parent.right:\n",
        "                u = k.parent.parent.left\n",
        "                if u.color == 1:\n",
        "                    u.color = 0\n",
        "                    k.parent.color = 0\n",
        "                    k.parent.parent.color = 1\n",
        "                    k = k.parent.parent\n",
        "                else:\n",
        "                    if k == k.parent.left:\n",
        "                        k = k.parent\n",
        "                        self.right_rotate(k)\n",
        "                    k.parent.color = 0\n",
        "                    k.parent.parent.color = 1\n",
        "                    self.left_rotate(k.parent.parent)\n",
        "            else:\n",
        "                u = k.parent.parent.right\n",
        "                if u.color == 1:\n",
        "                    u.color = 0\n",
        "                    k.parent.color = 0\n",
        "                    k.parent.parent.color = 1\n",
        "                    k = k.parent.parent\n",
        "                else:\n",
        "                    if k == k.parent.right:\n",
        "                        k = k.parent\n",
        "                        self.left_rotate(k)\n",
        "                    k.parent.color = 0\n",
        "                    k.parent.parent.color = 1\n",
        "                    self.right_rotate(k.parent.parent)\n",
        "            \n",
        "            if self.root == k:\n",
        "                break\n",
        "\n",
        "        self.root.color = 0\n",
        "\n",
        "    def left_rotate(self, x):\n",
        "        y = x.right\n",
        "        x.right = y.left\n",
        "        if y.left != self.TNULL:\n",
        "            y.left.parent = x\n",
        "        \n",
        "        y.parent = x.parent\n",
        "        if x.parent == None:\n",
        "            self.root = y\n",
        "        elif x == x.parent.left:\n",
        "            x.parent.left = y\n",
        "        else:\n",
        "            x.parent.right = y\n",
        "\n",
        "        x.parent = y\n",
        "        y.left = x\n",
        "\n",
        "    def right_rotate(self, x):\n",
        "        y = x.left\n",
        "        x.left = y.right\n",
        "        if y.right != self.TNULL:\n",
        "            y.right.parent = x\n",
        "        \n",
        "        y.parent = x.parent\n",
        "        if x.parent == None:\n",
        "            self.root = y\n",
        "        elif x == x.parent.left:\n",
        "            x.parent.left = y\n",
        "        else:\n",
        "            x.parent.right = y\n",
        "\n",
        "        x.parent = y\n",
        "        y.right = x\n",
        "\n",
        "    def print_tree(self):\n",
        "        self.__print_tree_helper(self.root, \"\", True)\n",
        "\n",
        "    def __print_tree_helper(self, node, indent, last):\n",
        "        if node != self.TNULL:\n",
        "            sys.stdout.write(indent)\n",
        "            if last:\n",
        "                sys.stdout.write(\"R----\")\n",
        "                indent += \"     \"\n",
        "            else:\n",
        "                sys.stdout.write(\"L----\")\n",
        "                indent += \"|    \"\n",
        "            \n",
        "            s_color = \"Red\" if node.color == 1 else \"Black\"\n",
        "            print(str(node.item) + \"(\" + s_color + \")\")\n",
        "            self.__print_tree_helper(node.left, indent, False)\n",
        "            self.__print_tree_helper(node.right, indent, True)"
      ],
      "metadata": {
        "id": "ob4S3oP78tu4"
      },
      "execution_count": null,
      "outputs": []
    },
    {
      "cell_type": "code",
      "source": [
        "rbt = RedBlackTree()\n",
        "elements = [8, 18, 5, 15, 17, 25, 40, 80]\n",
        "\n",
        "for i in elements:\n",
        "    rbt.insert(i)\n",
        "\n",
        "rbt.print_tree()"
      ],
      "metadata": {
        "colab": {
          "base_uri": "https://localhost:8080/"
        },
        "id": "4Ijx0kti28_h",
        "outputId": "19784414-e273-4d2c-c835-12cc6db2391c"
      },
      "execution_count": null,
      "outputs": [
        {
          "output_type": "stream",
          "name": "stdout",
          "text": [
            "R----17(Black)\n",
            "     L----8(Red)\n",
            "     |    L----5(Black)\n",
            "     |    R----15(Black)\n",
            "     R----25(Red)\n",
            "          L----18(Black)\n",
            "          R----40(Black)\n",
            "               R----80(Red)\n"
          ]
        }
      ]
    }
  ]
}